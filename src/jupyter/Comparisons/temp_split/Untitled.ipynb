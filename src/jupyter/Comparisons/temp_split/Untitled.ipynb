{
 "cells": [
  {
   "cell_type": "markdown",
   "metadata": {},
   "source": [
    "__Cargar librerías__"
   ]
  },
  {
   "cell_type": "code",
   "execution_count": 1,
   "metadata": {},
   "outputs": [],
   "source": [
    "import os\n",
    "import sys\n",
    "import getpass\n",
    "import bz2\n",
    "import pickle # Rick!\n",
    "import copy\n",
    "\n",
    "import numpy as np\n",
    "import pandas as pd\n",
    "import math\n",
    "\n",
    "import numpy as np\n",
    "import pandas as pd\n",
    "import seaborn as sns\n",
    "from scipy.io import loadmat\n",
    "import matplotlib.pyplot as plt\n",
    "\n",
    "from sklearn.feature_selection import f_regression, mutual_info_regression, RFE\n",
    "from sklearn.ensemble import GradientBoostingRegressor\n",
    "from sklearn.linear_model import LinearRegression"
   ]
  },
  {
   "cell_type": "markdown",
   "metadata": {},
   "source": [
    "__Cargar fichero de comparaciones__"
   ]
  },
  {
   "cell_type": "code",
   "execution_count": 29,
   "metadata": {},
   "outputs": [],
   "source": [
    "BASE_FOLDER = \"/Users/carlos/Documents/D/niebla/\"\n",
    "LOGS_FOLDER = \"log_files/\"\n",
    "EXP_NAME    = \"temp_split\"\n",
    "\n",
    "COMP_FOLDER = BASE_FOLDER+LOGS_FOLDER+\"alg_comp/\"+EXP_NAME+\"/\"\n",
    "\n",
    "#exps_scalers = [i[:-4] for i in os.listdir(COMP_FOLDER)]\n",
    "exps_scalers = os.listdir(COMP_FOLDER)\n",
    "#exps_scalers\n",
    "\n",
    "df = pd.read_csv(COMP_FOLDER+exps_scalers[0], header=0, index_col=0).T\n",
    "\n",
    "for i in exps_scalers[1:]:\n",
    "    df_ = pd.read_csv(COMP_FOLDER+i, header=0, index_col=0).T\n",
    "    df = df.append(df_)"
   ]
  },
  {
   "cell_type": "markdown",
   "metadata": {},
   "source": [
    "__Mostrar los 10 mejores__ (por RMSE)"
   ]
  },
  {
   "cell_type": "code",
   "execution_count": 36,
   "metadata": {},
   "outputs": [
    {
     "data": {
      "text/html": [
       "<div>\n",
       "<style scoped>\n",
       "    .dataframe tbody tr th:only-of-type {\n",
       "        vertical-align: middle;\n",
       "    }\n",
       "\n",
       "    .dataframe tbody tr th {\n",
       "        vertical-align: top;\n",
       "    }\n",
       "\n",
       "    .dataframe thead th {\n",
       "        text-align: right;\n",
       "    }\n",
       "</style>\n",
       "<table border=\"1\" class=\"dataframe\">\n",
       "  <thead>\n",
       "    <tr style=\"text-align: right;\">\n",
       "      <th>Metric</th>\n",
       "      <th>R2</th>\n",
       "      <th>MSE</th>\n",
       "      <th>RMSE</th>\n",
       "      <th>MAE</th>\n",
       "    </tr>\n",
       "  </thead>\n",
       "  <tbody>\n",
       "    <tr>\n",
       "      <th>MLP-temp_split-robust_scaler</th>\n",
       "      <td>0.629089</td>\n",
       "      <td>251400.092144</td>\n",
       "      <td>501.398137</td>\n",
       "      <td>287.402368</td>\n",
       "    </tr>\n",
       "    <tr>\n",
       "      <th>RF-temp_split-std</th>\n",
       "      <td>0.627591</td>\n",
       "      <td>252415.131470</td>\n",
       "      <td>502.409327</td>\n",
       "      <td>285.104250</td>\n",
       "    </tr>\n",
       "    <tr>\n",
       "      <th>RF-temp_split-robust_scaler</th>\n",
       "      <td>0.627540</td>\n",
       "      <td>252449.735343</td>\n",
       "      <td>502.443763</td>\n",
       "      <td>285.521509</td>\n",
       "    </tr>\n",
       "    <tr>\n",
       "      <th>RF-temp_split-min_max</th>\n",
       "      <td>0.627166</td>\n",
       "      <td>252702.954320</td>\n",
       "      <td>502.695688</td>\n",
       "      <td>285.603454</td>\n",
       "    </tr>\n",
       "    <tr>\n",
       "      <th>MLP-temp_split-std</th>\n",
       "      <td>0.623447</td>\n",
       "      <td>255224.232899</td>\n",
       "      <td>505.197222</td>\n",
       "      <td>325.728592</td>\n",
       "    </tr>\n",
       "    <tr>\n",
       "      <th>GB-temp_split-std</th>\n",
       "      <td>0.612399</td>\n",
       "      <td>262711.864025</td>\n",
       "      <td>512.554255</td>\n",
       "      <td>321.091757</td>\n",
       "    </tr>\n",
       "    <tr>\n",
       "      <th>GB-temp_split-min_max</th>\n",
       "      <td>0.612382</td>\n",
       "      <td>262723.668096</td>\n",
       "      <td>512.565770</td>\n",
       "      <td>321.132111</td>\n",
       "    </tr>\n",
       "    <tr>\n",
       "      <th>GB-temp_split-robust_scaler</th>\n",
       "      <td>0.612182</td>\n",
       "      <td>262858.915968</td>\n",
       "      <td>512.697685</td>\n",
       "      <td>321.219453</td>\n",
       "    </tr>\n",
       "    <tr>\n",
       "      <th>GB-temp_split-PCA</th>\n",
       "      <td>0.612159</td>\n",
       "      <td>262874.526781</td>\n",
       "      <td>512.712909</td>\n",
       "      <td>321.262099</td>\n",
       "    </tr>\n",
       "    <tr>\n",
       "      <th>MLP_simp-temp_split-robust_scaler</th>\n",
       "      <td>0.568809</td>\n",
       "      <td>292256.783639</td>\n",
       "      <td>540.607791</td>\n",
       "      <td>358.662705</td>\n",
       "    </tr>\n",
       "  </tbody>\n",
       "</table>\n",
       "</div>"
      ],
      "text/plain": [
       "Metric                                   R2            MSE        RMSE  \\\n",
       "MLP-temp_split-robust_scaler       0.629089  251400.092144  501.398137   \n",
       "RF-temp_split-std                  0.627591  252415.131470  502.409327   \n",
       "RF-temp_split-robust_scaler        0.627540  252449.735343  502.443763   \n",
       "RF-temp_split-min_max              0.627166  252702.954320  502.695688   \n",
       "MLP-temp_split-std                 0.623447  255224.232899  505.197222   \n",
       "GB-temp_split-std                  0.612399  262711.864025  512.554255   \n",
       "GB-temp_split-min_max              0.612382  262723.668096  512.565770   \n",
       "GB-temp_split-robust_scaler        0.612182  262858.915968  512.697685   \n",
       "GB-temp_split-PCA                  0.612159  262874.526781  512.712909   \n",
       "MLP_simp-temp_split-robust_scaler  0.568809  292256.783639  540.607791   \n",
       "\n",
       "Metric                                    MAE  \n",
       "MLP-temp_split-robust_scaler       287.402368  \n",
       "RF-temp_split-std                  285.104250  \n",
       "RF-temp_split-robust_scaler        285.521509  \n",
       "RF-temp_split-min_max              285.603454  \n",
       "MLP-temp_split-std                 325.728592  \n",
       "GB-temp_split-std                  321.091757  \n",
       "GB-temp_split-min_max              321.132111  \n",
       "GB-temp_split-robust_scaler        321.219453  \n",
       "GB-temp_split-PCA                  321.262099  \n",
       "MLP_simp-temp_split-robust_scaler  358.662705  "
      ]
     },
     "execution_count": 36,
     "metadata": {},
     "output_type": "execute_result"
    }
   ],
   "source": [
    "df.sort_values(\"RMSE\").iloc[0:10]"
   ]
  },
  {
   "cell_type": "markdown",
   "metadata": {},
   "source": [
    "TODO: __Hacer medias y mostrar cual es el mejor scaler en general__"
   ]
  },
  {
   "cell_type": "code",
   "execution_count": null,
   "metadata": {},
   "outputs": [],
   "source": []
  }
 ],
 "metadata": {
  "kernelspec": {
   "display_name": "Python 3",
   "language": "python",
   "name": "python3"
  },
  "language_info": {
   "codemirror_mode": {
    "name": "ipython",
    "version": 3
   },
   "file_extension": ".py",
   "mimetype": "text/x-python",
   "name": "python",
   "nbconvert_exporter": "python",
   "pygments_lexer": "ipython3",
   "version": "3.7.10"
  }
 },
 "nbformat": 4,
 "nbformat_minor": 2
}
